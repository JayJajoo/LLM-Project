{
 "cells": [
  {
   "cell_type": "code",
   "execution_count": 1,
   "id": "910ebd96",
   "metadata": {},
   "outputs": [
    {
     "data": {
      "text/plain": [
       "True"
      ]
     },
     "execution_count": 1,
     "metadata": {},
     "output_type": "execute_result"
    }
   ],
   "source": [
    "import os\n",
    "import json\n",
    "from langchain_community.vectorstores import Chroma\n",
    "from langchain_openai.embeddings import OpenAIEmbeddings\n",
    "from langchain_openai.chat_models import ChatOpenAI\n",
    "from dotenv import load_dotenv\n",
    "from langchain_core.messages import SystemMessage,HumanMessage\n",
    "from langchain.prompts import ChatPromptTemplate,ChatMessagePromptTemplate\n",
    "from langchain_core.documents import Document\n",
    "import pandas as pd\n",
    "import re\n",
    "\n",
    "load_dotenv()"
   ]
  },
  {
   "cell_type": "code",
   "execution_count": 2,
   "id": "dc221319",
   "metadata": {},
   "outputs": [],
   "source": [
    "embeddings = OpenAIEmbeddings(model=\"text-embedding-3-large\")"
   ]
  },
  {
   "cell_type": "code",
   "execution_count": 3,
   "id": "595516e5",
   "metadata": {},
   "outputs": [],
   "source": [
    "data = []\n",
    "\n",
    "DATASET_PATH = \"./Dataset/\"\n",
    "files = os.listdir(path=DATASET_PATH)\n",
    "for file in files:\n",
    "    with open (f\"{DATASET_PATH}/{file}\",\"r\") as f: \n",
    "        data.extend(json.load(f))"
   ]
  },
  {
   "cell_type": "code",
   "execution_count": 4,
   "id": "4b1830ed",
   "metadata": {},
   "outputs": [
    {
     "data": {
      "text/plain": [
       "{'data_id': '22503',\n",
       " 'course_number': '5200',\n",
       " 'title': 'Cardiopulmonary Physiology',\n",
       " 'college': 'Bouve College of Hlth Sciences BV',\n",
       " 'department': 'Public Health and Health Sci HSCI',\n",
       " 'credit_hours': '3',\n",
       " 'description': 'Offers students an opportunity to gain an understanding of physiological principles of the cardiopulmonary system. Covers the structure and functional operation and regulation of the cardiopulmonary system, disease-associated physiological changes and cardiopulmonary dysfunction, and exercise-induced acute responses and physiological adaptations of the system and their applications to chronic cardiopulmonary diseases. Integrates knowledge of exercise and physical activity with cardiopulmonary health and fitness, as well as cardiopulmonary disease prevention and treatment.',\n",
       " 'prerequisites': '( ( Biology 2217 Undergraduate C- And Biology 2219 Undergraduate C- ) Or Cardiopulmonary & Exercise Sci 4500 Undergraduate C- ) Or Graduate Admission REQ'}"
      ]
     },
     "execution_count": 4,
     "metadata": {},
     "output_type": "execute_result"
    }
   ],
   "source": [
    "data[0]"
   ]
  },
  {
   "cell_type": "code",
   "execution_count": 5,
   "id": "3708678e",
   "metadata": {},
   "outputs": [
    {
     "data": {
      "text/plain": [
       "3351"
      ]
     },
     "execution_count": 5,
     "metadata": {},
     "output_type": "execute_result"
    }
   ],
   "source": [
    "len(data)"
   ]
  },
  {
   "cell_type": "code",
   "execution_count": 6,
   "id": "b463c28f",
   "metadata": {},
   "outputs": [],
   "source": [
    "special_courses = []\n",
    "regular_courses = []\n",
    "\n",
    "for idx,info in enumerate(data):\n",
    "    dept_code = info[\"department\"].split(\" \")[-1]\n",
    "    \n",
    "    # Create modified copy with new keys\n",
    "    temp = {\n",
    "        **info,\n",
    "        \"dept_code\": dept_code,\n",
    "        \"course_number\": f\"{dept_code}{info['course_number']}\"\n",
    "    }\n",
    "    \n",
    "    if re.search(r\"(Special|Topics)\", info[\"title\"], re.IGNORECASE):\n",
    "        special_courses.append(temp)\n",
    "    else:\n",
    "        regular_courses.append(temp)"
   ]
  },
  {
   "cell_type": "code",
   "execution_count": 7,
   "id": "608554ff",
   "metadata": {},
   "outputs": [
    {
     "data": {
      "text/plain": [
       "(3221, 130)"
      ]
     },
     "execution_count": 7,
     "metadata": {},
     "output_type": "execute_result"
    }
   ],
   "source": [
    "len(regular_courses) , len(special_courses)"
   ]
  },
  {
   "cell_type": "code",
   "execution_count": 8,
   "id": "60811727",
   "metadata": {},
   "outputs": [],
   "source": [
    "sys_msg = \"\"\"\n",
    "You are a specialist in retrieving the most relevant chunks from a vector database using cosine similarity search.\n",
    "\n",
    "Your task is to **rephrase vague or general user queries** into **information-rich, semantically detailed prompts** that enhance the quality of similarity-based retrieval from a course or subject database.\n",
    "\n",
    "Your goal: Expand and enrich user queries by adding domain-relevant subtopics, tools, frameworks, techniques, or applications — to improve the precision of similarity search and align with structured educational content.\n",
    "\n",
    "Very Important: You will also be provided with the `department` and `college` information related to the course database. Ensure that your rephrased query explicitly **mentions the department and college** to help the system match with the correct institutional context.\n",
    "\n",
    "### Examples:\n",
    "\n",
    "1.  \n",
    "**User Query:** I want to become a data scientist.  \n",
    "**Rephrased Query:** Find courses and subjects offered by the Department of Data Science within the College of Computing and Information Sciences that include hands-on training in Python and R programming, statistical modeling, data wrangling, data visualization with tools like Tableau and Seaborn, machine learning algorithms, deep learning fundamentals, SQL for structured data analysis, big data tools such as Apache Spark and Hadoop, and cloud-based analytics platforms (e.g., AWS, Google Cloud). Also include practical projects with real-world datasets and exposure to ethical use of data.\n",
    "\n",
    "2.  \n",
    "**User Query:** I’m interested in law and emerging technologies.  \n",
    "**Rephrased Query:** Retrieve interdisciplinary courses offered by the Department of Law and Technology within the College of Legal Studies that focus on the intersection of law and modern technologies, covering digital privacy laws, cybersecurity regulation, intellectual property rights in AI and software, blockchain legal frameworks, smart contract enforceability, data protection acts like GDPR and CCPA, AI governance and ethical policy, and case law involving technology-driven legal disputes.\n",
    "\n",
    "3.  \n",
    "**User Query:** I want to study climate change.  \n",
    "**Rephrased Query:** Search for courses offered by the Department of Environmental Science within the College of Earth and Atmospheric Sciences that focus on climate science, climate policy, and environmental sustainability. Topics should include greenhouse gas modeling, climate risk assessment, renewable energy systems (solar, wind, geothermal), carbon offset strategies, global climate treaties (e.g., Paris Agreement), sustainability metrics, green finance, environmental economics, and the use of data and technology in climate monitoring and mitigation.\n",
    "\n",
    "4.  \n",
    "**User Query:** I want to learn about art and design.  \n",
    "**Rephrased Query:** Retrieve subjects offered by the Department of Art and Design under the College of Fine Arts that explore traditional and digital design, including visual composition principles, art history, color theory, drawing, graphic design, UI/UX, digital tools like Photoshop and Illustrator, 3D modeling software, typography, and development of creative portfolios for professional applications.\n",
    "\n",
    "5.  \n",
    "**User Query:** I’m interested in healthcare and medicine.  \n",
    "**Rephrased Query:** Find courses provided by the Department of Biomedical Sciences in the College of Health and Life Sciences that cover healthcare and medical topics, including anatomy and physiology, pathology, pharmacology, diagnostic imaging, clinical communication, medical ethics, epidemiology, public health policy, healthcare data systems, telemedicine, and AI in modern diagnostics and wearable health devices.\n",
    "\n",
    "---\n",
    "\n",
    "Now rephrase the following user query and just return the rephrased query:\n",
    "\"\"\""
   ]
  },
  {
   "cell_type": "code",
   "execution_count": 9,
   "id": "14c248e1",
   "metadata": {},
   "outputs": [
    {
     "data": {
      "text/plain": [
       "({'data_id': '49085',\n",
       "  'course_number': 'LAW7976',\n",
       "  'title': 'Directed Study',\n",
       "  'college': 'School of Law LW',\n",
       "  'department': 'Law LAW',\n",
       "  'credit_hours': '1 TO 6',\n",
       "  'description': 'Offers independent work under the direction of members of the department on a chosen topic. Course content depends on instructor. May be repeated two times for a maximum of six semester hours.',\n",
       "  'prerequisites': 'None',\n",
       "  'dept_code': 'LAW'},\n",
       " {'data_id': '56288',\n",
       "  'course_number': 'HLTH5963',\n",
       "  'title': 'Topics',\n",
       "  'college': 'Bouve College of Hlth Sciences BV',\n",
       "  'department': 'Health Sci - Interdisciplinary HLTH',\n",
       "  'credit_hours': '1 OR 2',\n",
       "  'description': 'Offers students an opportunity to learn about timely issues, develop new skills, or explore areas of broad interest in an immersive, short-course format. Content and instructors vary by offering. May be repeated three times.',\n",
       "  'prerequisites': 'None',\n",
       "  'dept_code': 'HLTH'})"
      ]
     },
     "execution_count": 9,
     "metadata": {},
     "output_type": "execute_result"
    }
   ],
   "source": [
    "regular_courses[-1],special_courses[0]"
   ]
  },
  {
   "cell_type": "code",
   "execution_count": 10,
   "id": "1d54835b",
   "metadata": {},
   "outputs": [],
   "source": [
    "llm =  ChatOpenAI(model=\"gpt-4.1-nano\")"
   ]
  },
  {
   "cell_type": "code",
   "execution_count": 11,
   "id": "7c3d8130",
   "metadata": {},
   "outputs": [],
   "source": [
    "def get_documents(data):\n",
    "    documents = [\n",
    "        Document(\n",
    "            page_content=(\n",
    "                f\"Title: {course['title']}\\n\"\n",
    "                f\"{course['description']}\\n\"\n",
    "                f\"Prerequisites: {course['prerequisites']}\\n\"\n",
    "                f\"College: {course['college']}\\n\"\n",
    "                f\"Department: {course['department']}\"\n",
    "            ),\n",
    "            metadata={\n",
    "                \"data_id\": course[\"data_id\"],\n",
    "                \"course_number\": course[\"course_number\"],\n",
    "                \"department\": course[\"department\"],\n",
    "                \"title\": course[\"title\"],\n",
    "                \"college\": course[\"college\"],\n",
    "                \"credit_hours\": course[\"credit_hours\"],\n",
    "                \"prerequisites\": course[\"prerequisites\"],\n",
    "                \"dept_code\":course[\"dept_code\"]\n",
    "            }\n",
    "        )\n",
    "        for course in data\n",
    "    ]\n",
    "    return documents\n",
    "\n",
    "\n",
    "regular_courses_documents = get_documents(regular_courses)\n",
    "special_topics_documents = get_documents(special_courses)"
   ]
  },
  {
   "cell_type": "code",
   "execution_count": 12,
   "id": "4fffa468",
   "metadata": {},
   "outputs": [
    {
     "name": "stderr",
     "output_type": "stream",
     "text": [
      "C:\\Users\\LEGION\\AppData\\Local\\Temp\\ipykernel_30020\\2474018442.py:1: LangChainDeprecationWarning: The class `Chroma` was deprecated in LangChain 0.2.9 and will be removed in 1.0. An updated version of the class exists in the :class:`~langchain-chroma package and should be used instead. To use it run `pip install -U :class:`~langchain-chroma` and import as `from :class:`~langchain_chroma import Chroma``.\n",
      "  regular_courses_database = Chroma(collection_name=\"RegularCourses\",embedding_function=embeddings,persist_directory=\"./VectorDB\")\n"
     ]
    }
   ],
   "source": [
    "regular_courses_database = Chroma(collection_name=\"RegularCourses\",embedding_function=embeddings,persist_directory=\"./VectorDB\")\n",
    "special_topics_database = Chroma(collection_name=\"SpecialCourses\",embedding_function=embeddings,persist_directory=\"./VectorDB\")"
   ]
  },
  {
   "cell_type": "code",
   "execution_count": 13,
   "id": "cf2d437d",
   "metadata": {},
   "outputs": [],
   "source": [
    "regular_courses_ids = regular_courses_database.add_documents(documents=regular_courses_documents)\n",
    "special_courses_ids = special_topics_database.add_documents(documents=special_topics_documents)"
   ]
  },
  {
   "cell_type": "code",
   "execution_count": 14,
   "id": "201b6dd2",
   "metadata": {},
   "outputs": [],
   "source": [
    "regular_courses_retriver = regular_courses_database.as_retriever(search_kwargs={'k': 15})\n",
    "special_courses_retriver = special_topics_database.as_retriever(search_kwargs={'k': 2})"
   ]
  },
  {
   "cell_type": "code",
   "execution_count": 15,
   "id": "e35afc44",
   "metadata": {},
   "outputs": [],
   "source": [
    "def get_df(courses):\n",
    "    titles= []\n",
    "    dept = []\n",
    "    college = []\n",
    "    data_ids = []\n",
    "    cns = []\n",
    "    disc = []\n",
    "\n",
    "    for course in courses:\n",
    "        disc.append(course.page_content.split(\"\\n\")[1])\n",
    "        cns.append(course.metadata[\"course_number\"])\n",
    "        data_ids.append(course.metadata[\"data_id\"])\n",
    "        titles.append(course.metadata[\"title\"])\n",
    "        dept.append(course.metadata[\"dept_code\"])\n",
    "        college.append(course.metadata[\"college\"])\n",
    "\n",
    "    df = pd.DataFrame(data={\n",
    "        # \"Data ID\":data_ids,\n",
    "        \"Course Number\":cns,\n",
    "        \"College\":college,\n",
    "        \"Titles\":titles,\n",
    "        \"Dept\":dept,\n",
    "        \"Description\":disc\n",
    "    })\n",
    "\n",
    "    df.reset_index(drop=True, inplace=True)\n",
    "\n",
    "    df.sort_values(by=[\"Dept\"])\n",
    "\n",
    "    return df\n",
    "\n",
    "def get_courses(role):\n",
    "    prompt = ChatPromptTemplate.from_messages([\n",
    "        (\"system\",sys_msg),\n",
    "        (\"user\",f\"I want to become a {role}\")\n",
    "    ])\n",
    "\n",
    "    prompt = prompt.format_prompt(query=str(role))\n",
    "\n",
    "    resposne = llm.invoke(prompt).content\n",
    "    print(f\"Rephrased Query: {resposne}\")\n",
    "\n",
    "    regular_courses_list = regular_courses_retriver.get_relevant_documents(resposne)    \n",
    "    special_courses_list = special_courses_retriver.get_relevant_documents(resposne)\n",
    "    \n",
    "    df1 = get_df(courses=regular_courses_list)\n",
    "    df1.sort_values(by=[\"Dept\"],inplace=True)\n",
    "    df2 = get_df(courses=special_courses_list)\n",
    "    df2.sort_values(by=[\"Dept\"],inplace=True)\n",
    "    df =  pd.concat((df1,df2),axis=0,ignore_index=True)\n",
    "    return df"
   ]
  },
  {
   "cell_type": "code",
   "execution_count": 16,
   "id": "b8dcb838",
   "metadata": {},
   "outputs": [],
   "source": [
    "role = \"i want to become a data scientist an i am in khoury in MSDS and wanted to be a ML OPS enginerri.\""
   ]
  },
  {
   "cell_type": "code",
   "execution_count": 17,
   "id": "ac4d61c8",
   "metadata": {},
   "outputs": [
    {
     "name": "stdout",
     "output_type": "stream",
     "text": [
      "Rephrased Query: Retrieve courses offered by the Department of Data Science and Machine Learning within the Khoury College of Computer Sciences, specifically focusing on MSDS programs, covering topics such as data analysis, statistical modeling, machine learning algorithms, deep learning, and MLOps engineering practices. Include training on deploying machine learning models at scale, model monitoring, automation with tools like TensorFlow Extended (TFX), Docker, Kubernetes, CI/CD pipelines for ML, cloud platforms (AWS, GCP, Azure), and practical projects involving real-world datasets. Emphasize skills in version control, reproducibility, and ethical considerations in AI/ML deployment.\n"
     ]
    },
    {
     "name": "stderr",
     "output_type": "stream",
     "text": [
      "C:\\Users\\LEGION\\AppData\\Local\\Temp\\ipykernel_30020\\4287431957.py:43: LangChainDeprecationWarning: The method `BaseRetriever.get_relevant_documents` was deprecated in langchain-core 0.1.46 and will be removed in 1.0. Use :meth:`~invoke` instead.\n",
      "  regular_courses_list = regular_courses_retriver.get_relevant_documents(resposne)\n"
     ]
    }
   ],
   "source": [
    "df = get_courses(role=role)"
   ]
  },
  {
   "cell_type": "code",
   "execution_count": 18,
   "id": "59070ccd",
   "metadata": {},
   "outputs": [
    {
     "data": {
      "text/html": [
       "<div>\n",
       "<style scoped>\n",
       "    .dataframe tbody tr th:only-of-type {\n",
       "        vertical-align: middle;\n",
       "    }\n",
       "\n",
       "    .dataframe tbody tr th {\n",
       "        vertical-align: top;\n",
       "    }\n",
       "\n",
       "    .dataframe thead th {\n",
       "        text-align: right;\n",
       "    }\n",
       "</style>\n",
       "<table border=\"1\" class=\"dataframe\">\n",
       "  <thead>\n",
       "    <tr style=\"text-align: right;\">\n",
       "      <th></th>\n",
       "      <th>Course Number</th>\n",
       "      <th>College</th>\n",
       "      <th>Titles</th>\n",
       "      <th>Dept</th>\n",
       "      <th>Description</th>\n",
       "    </tr>\n",
       "  </thead>\n",
       "  <tbody>\n",
       "    <tr>\n",
       "      <th>0</th>\n",
       "      <td>CS6140</td>\n",
       "      <td>Khoury Coll of Comp Sciences CS</td>\n",
       "      <td>Machine Learning</td>\n",
       "      <td>CS</td>\n",
       "      <td>Provides a broad look at a variety of techniques used in machine learning and data mining, and also examines issues associated with their use. Topics include algorithms for supervised learning including decision tree induction, artificial neural networks, instance-based learning, probabilistic methods, and support vector machines; unsupervised learning; and reinforcement learning. Also covers computational learning theory and other methods for analyzing and measuring the performance of learning algorithms. Course work includes a programming term project.</td>\n",
       "    </tr>\n",
       "    <tr>\n",
       "      <th>1</th>\n",
       "      <td>CS7150</td>\n",
       "      <td>Khoury Coll of Comp Sciences CS</td>\n",
       "      <td>Deep Learning</td>\n",
       "      <td>CS</td>\n",
       "      <td>Introduces deep learning, including the statistical learning framework, empirical risk minimization, loss function selection, fully connected layers, convolutional layers, pooling layers, batch normalization, multilayer perceptrons, convolutional neural networks, autoencoders, U-nets, residual networks, gradient descent, stochastic gradient descent, backpropagation, autograd, visualization of neural network features, robustness and adversarial examples, interpretability, continual learning, and applications in computer vision and natural language processing. Assumes students already have a basic knowledge of machine learning, optimization, linear algebra, and statistics.</td>\n",
       "    </tr>\n",
       "    <tr>\n",
       "      <th>2</th>\n",
       "      <td>CS5130</td>\n",
       "      <td>Khoury Coll of Comp Sciences CS</td>\n",
       "      <td>Applied Programming and Data Processing for AI</td>\n",
       "      <td>CS</td>\n",
       "      <td>Presents an in-depth exploration of programming paradigms, mathematical foundations, and computational techniques essential for scientific computing and data-driven applications. Integrates linear algebra, Python programming principles, algorithmic design, and data science methodologies to offer students an opportunity to develop the technical expertise necessary for handling complex numerical computations and large-scale data processing. Strongly emphasizes Pythonic programming, object-oriented and functional programming, data preprocessing, visualization, and numerical stability, with the aim of developing the skills needed to write clean, efficient, and maintainable code for scientific and engineering applications.</td>\n",
       "    </tr>\n",
       "    <tr>\n",
       "      <th>3</th>\n",
       "      <td>DS5220</td>\n",
       "      <td>Khoury Coll of Comp Sciences CS</td>\n",
       "      <td>Supervised Machine Learning and Learning Theory</td>\n",
       "      <td>DS</td>\n",
       "      <td>Introduces supervised machine learning, which is the study and design of algorithms that enable computers/machines to learn from experience or data, given examples of data with a known outcome of interest. Offers a broad view of models and algorithms for supervised decision making. Discusses the methodological foundations behind the models and the algorithms, as well as issues of practical implementation and use, and techniques for assessing the performance. Includes a term project involving programming and/or work with real-world data sets. Requires proficiency in a programming language such as Python, R, or MATLAB.</td>\n",
       "    </tr>\n",
       "    <tr>\n",
       "      <th>4</th>\n",
       "      <td>DS5110</td>\n",
       "      <td>Khoury Coll of Comp Sciences CS</td>\n",
       "      <td>Essentials of Data Science</td>\n",
       "      <td>DS</td>\n",
       "      <td>Introduces students to the core tasks in data science, including data collection, storage, tidying, transformation, processing, management, and modeling for the purpose of extracting knowledge from raw observations. Programming is a cross-cutting aspect of the course. Offers students an opportunity to gain experience with data science tasks and tools through short assignments. Includes a term project based on real-world data.</td>\n",
       "    </tr>\n",
       "    <tr>\n",
       "      <th>5</th>\n",
       "      <td>DS5010</td>\n",
       "      <td>Khoury Coll of Comp Sciences CS</td>\n",
       "      <td>Introduction to Programming for Data Science</td>\n",
       "      <td>DS</td>\n",
       "      <td>Offers an introductory course on fundamentals of programming and data structures. Covers lists, arrays, trees, hash tables, etc.; program design, programming practices, testing, debugging, maintainability, data collection techniques, and data cleaning and preprocessing. Includes a class project, where students use the concepts covered to collect data from the web, clean and preprocess the data, and make it ready for analysis.</td>\n",
       "    </tr>\n",
       "    <tr>\n",
       "      <th>6</th>\n",
       "      <td>DS5500</td>\n",
       "      <td>Khoury Coll of Comp Sciences CS</td>\n",
       "      <td>Data Science Capstone</td>\n",
       "      <td>DS</td>\n",
       "      <td>Offers students a capstone opportunity to practice data science skills learned in previous courses and to build a portfolio. Students practice visualization, data wrangling, and machine learning skills by applying them to semester-long term projects on real-world data. Students may either propose their own projects or choose from a selection of industry options. Emphasizes the overall data science process, including identification of the scientific problem, selection of appropriate machine learning methods, and visualization and communication of results. Lectures may include additional topics, including visualization, communication, and data science ethics.</td>\n",
       "    </tr>\n",
       "    <tr>\n",
       "      <th>7</th>\n",
       "      <td>DS5020</td>\n",
       "      <td>Khoury Coll of Comp Sciences CS</td>\n",
       "      <td>Introduction to Linear Algebra and Probability for Data Science</td>\n",
       "      <td>DS</td>\n",
       "      <td>Offers an introductory course on the basics of statistics, probability, and linear algebra. Covers random variables, frequency distributions, measures of central tendency, measures of dispersion, moments of a distribution, discrete and continuous probability distributions, chain rule, Bayes&amp;#8217; rule, correlation theory, basic sampling, matrix operations, trace of a matrix, norms, linear independence and ranks, inverse of a matrix, orthogonal matrices, range and null-space of a matrix, the determinant of a matrix, positive semidefinite matrices, eigenvalues, and eigenvectors.</td>\n",
       "    </tr>\n",
       "    <tr>\n",
       "      <th>8</th>\n",
       "      <td>GSEN6105</td>\n",
       "      <td>College of Engineering EN</td>\n",
       "      <td>Data Science Engineering Methods and Tools</td>\n",
       "      <td>GSEN</td>\n",
       "      <td>Introduces the fundamental techniques for machine learning and data science engineering. Discusses a variety of machine learning algorithms, along with examples of their implementation, evaluation, and best practices. Lays the foundation of how learning models are derived from complex data pipelines, both algorithmically and practically. Topics include supervised learning (parametric/nonparametric algorithms, support vector machines, kernels, neural networks, deep learning) and unsupervised learning (clustering, dimensionality reduction, recommender systems). Based on numerous real-world case studies.</td>\n",
       "    </tr>\n",
       "    <tr>\n",
       "      <th>9</th>\n",
       "      <td>INPR6610</td>\n",
       "      <td>Office of the Provost PR</td>\n",
       "      <td>Applied Machine Learning</td>\n",
       "      <td>INPR</td>\n",
       "      <td>Analyzes machine learning techniques, methodologies, and best practices tailored for advanced artificial intelligence applications. Covers advanced supervised and unsupervised learning, deep learning architectures, reinforcement learning, and domain-specific applications. Explores crucial topics of ethics, privacy, and fairness in machine learning.</td>\n",
       "    </tr>\n",
       "    <tr>\n",
       "      <th>10</th>\n",
       "      <td>INPR5030</td>\n",
       "      <td>Office of the Provost PR</td>\n",
       "      <td>Introduction to Data Mining/Machine Learning</td>\n",
       "      <td>INPR</td>\n",
       "      <td>Introduces the fundamental techniques for data mining, combining elements from CS 6140 and CS 6220. Discusses several basic learning algorithms, such as regression and decision trees, along with popular data types, implementation and execution, and analysis of results. Lays the data analytics program foundation of how learning models from data work, both algorithmically and practically. The coding can be done in R, Matlab or Python. Students must demonstrate ability to set up data for learning, training, testing, and evaluating.</td>\n",
       "    </tr>\n",
       "    <tr>\n",
       "      <th>11</th>\n",
       "      <td>MATH7243</td>\n",
       "      <td>College of Science SC</td>\n",
       "      <td>Machine Learning and Statistical Learning Theory 1</td>\n",
       "      <td>MATH</td>\n",
       "      <td>Introduces both the mathematical theory of learning and the implementation of modern machine-learning algorithms appropriate for data science. Modeling everything from social organization to financial predictions, machine-learning algorithms allow us to discover information about complex systems, even when the underlying probability distributions are unknown. Algorithms discussed include regression, decision trees, clustering, and dimensionality reduction. Offers students an opportunity to learn the implications of the mathematical choices underpinning the use of each algorithm, how the results can be interpreted in actionable ways, and how to apply their knowledge through the analysis of a variety of data sets and models.</td>\n",
       "    </tr>\n",
       "    <tr>\n",
       "      <th>12</th>\n",
       "      <td>MEIE7305</td>\n",
       "      <td>College of Engineering EN</td>\n",
       "      <td>Machine Learning Operations</td>\n",
       "      <td>MEIE</td>\n",
       "      <td>Focuses on the integration of machine learning with production-level infrastructure, emphasizing the full life cycle of model development, deployment, and monitoring. Highlights tools and best practices for scalable, reproducible, and automated ML operations. Covers continuous integration and delivery, containerization, orchestration, experiment tracking, and automated retraining using platforms such as TFX, MLflow, Airflow, Docker, Kubernetes, and Google Cloud Platform.</td>\n",
       "    </tr>\n",
       "    <tr>\n",
       "      <th>13</th>\n",
       "      <td>MISM6412</td>\n",
       "      <td>D'Amore-McKim School Business BA</td>\n",
       "      <td>Data Mining and Machine Learning for Business</td>\n",
       "      <td>MISM</td>\n",
       "      <td>Explores data mining perspectives and methods within a business context. Introduces the theoretical foundations of key data mining techniques and provides guidance on selecting and applying the appropriate methods for various business scenarios, highlighting the advantages of each approach. Offers students an opportunity to engage with contemporary data mining software applications and to develop basic programming skills. Covers both supervised and unsupervised learning methods, focusing on solving real-world business problems including data cleaning, data transformation, and data modeling.</td>\n",
       "    </tr>\n",
       "    <tr>\n",
       "      <th>14</th>\n",
       "      <td>MISM6212</td>\n",
       "      <td>D'Amore-McKim School Business BA</td>\n",
       "      <td>Data Mining and Machine Learning for Business</td>\n",
       "      <td>MISM</td>\n",
       "      <td>Examines data mining perspectives and methods in a business context. Introduces the theoretical foundations for major data mining methods and studies how to select and use the appropriate data mining method and the major advantages for each. Students use contemporary data mining software applications and practice basic programming skills. Focuses on solving real-world problems, which require data cleaning, data transformation, and data modeling.</td>\n",
       "    </tr>\n",
       "    <tr>\n",
       "      <th>15</th>\n",
       "      <td>CS7290</td>\n",
       "      <td>Khoury Coll of Comp Sciences CS</td>\n",
       "      <td>Special Topics in Data Science</td>\n",
       "      <td>CS</td>\n",
       "      <td>Offers special topics in data science, including machine learning, statistics, data mining, parallel and distributed data analysis, database systems, information retrieval, knowledge representation, information visualization, natural language processing, computational biology and bioinformatics, computational social science, digital humanities, health informatics, business, and predictive analytics. May be repeated once for up to 8 total credits.</td>\n",
       "    </tr>\n",
       "    <tr>\n",
       "      <th>16</th>\n",
       "      <td>DS5983</td>\n",
       "      <td>Khoury Coll of Comp Sciences CS</td>\n",
       "      <td>Topics in Data Science</td>\n",
       "      <td>DS</td>\n",
       "      <td>Offers special topics in data science based on the interest and expertise of the faculty member conducting the course. May be repeated once.</td>\n",
       "    </tr>\n",
       "  </tbody>\n",
       "</table>\n",
       "</div>"
      ],
      "text/plain": [
       "   Course Number                           College  \\\n",
       "0         CS6140   Khoury Coll of Comp Sciences CS   \n",
       "1         CS7150   Khoury Coll of Comp Sciences CS   \n",
       "2         CS5130   Khoury Coll of Comp Sciences CS   \n",
       "3         DS5220   Khoury Coll of Comp Sciences CS   \n",
       "4         DS5110   Khoury Coll of Comp Sciences CS   \n",
       "5         DS5010   Khoury Coll of Comp Sciences CS   \n",
       "6         DS5500   Khoury Coll of Comp Sciences CS   \n",
       "7         DS5020   Khoury Coll of Comp Sciences CS   \n",
       "8       GSEN6105         College of Engineering EN   \n",
       "9       INPR6610          Office of the Provost PR   \n",
       "10      INPR5030          Office of the Provost PR   \n",
       "11      MATH7243             College of Science SC   \n",
       "12      MEIE7305         College of Engineering EN   \n",
       "13      MISM6412  D'Amore-McKim School Business BA   \n",
       "14      MISM6212  D'Amore-McKim School Business BA   \n",
       "15        CS7290   Khoury Coll of Comp Sciences CS   \n",
       "16        DS5983   Khoury Coll of Comp Sciences CS   \n",
       "\n",
       "                                                             Titles  Dept  \\\n",
       "0                                                  Machine Learning    CS   \n",
       "1                                                     Deep Learning    CS   \n",
       "2                    Applied Programming and Data Processing for AI    CS   \n",
       "3                   Supervised Machine Learning and Learning Theory    DS   \n",
       "4                                        Essentials of Data Science    DS   \n",
       "5                      Introduction to Programming for Data Science    DS   \n",
       "6                                             Data Science Capstone    DS   \n",
       "7   Introduction to Linear Algebra and Probability for Data Science    DS   \n",
       "8                        Data Science Engineering Methods and Tools  GSEN   \n",
       "9                                          Applied Machine Learning  INPR   \n",
       "10                     Introduction to Data Mining/Machine Learning  INPR   \n",
       "11               Machine Learning and Statistical Learning Theory 1  MATH   \n",
       "12                                      Machine Learning Operations  MEIE   \n",
       "13                    Data Mining and Machine Learning for Business  MISM   \n",
       "14                    Data Mining and Machine Learning for Business  MISM   \n",
       "15                                   Special Topics in Data Science    CS   \n",
       "16                                           Topics in Data Science    DS   \n",
       "\n",
       "                                                                                                                                                                                                                                                                                                                                                                                                                                                                                                                                                                                                                                                                                                                                                     Description  \n",
       "0                                                                                                                                                                               Provides a broad look at a variety of techniques used in machine learning and data mining, and also examines issues associated with their use. Topics include algorithms for supervised learning including decision tree induction, artificial neural networks, instance-based learning, probabilistic methods, and support vector machines; unsupervised learning; and reinforcement learning. Also covers computational learning theory and other methods for analyzing and measuring the performance of learning algorithms. Course work includes a programming term project.  \n",
       "1                                                        Introduces deep learning, including the statistical learning framework, empirical risk minimization, loss function selection, fully connected layers, convolutional layers, pooling layers, batch normalization, multilayer perceptrons, convolutional neural networks, autoencoders, U-nets, residual networks, gradient descent, stochastic gradient descent, backpropagation, autograd, visualization of neural network features, robustness and adversarial examples, interpretability, continual learning, and applications in computer vision and natural language processing. Assumes students already have a basic knowledge of machine learning, optimization, linear algebra, and statistics.  \n",
       "2        Presents an in-depth exploration of programming paradigms, mathematical foundations, and computational techniques essential for scientific computing and data-driven applications. Integrates linear algebra, Python programming principles, algorithmic design, and data science methodologies to offer students an opportunity to develop the technical expertise necessary for handling complex numerical computations and large-scale data processing. Strongly emphasizes Pythonic programming, object-oriented and functional programming, data preprocessing, visualization, and numerical stability, with the aim of developing the skills needed to write clean, efficient, and maintainable code for scientific and engineering applications.  \n",
       "3                                                                                                               Introduces supervised machine learning, which is the study and design of algorithms that enable computers/machines to learn from experience or data, given examples of data with a known outcome of interest. Offers a broad view of models and algorithms for supervised decision making. Discusses the methodological foundations behind the models and the algorithms, as well as issues of practical implementation and use, and techniques for assessing the performance. Includes a term project involving programming and/or work with real-world data sets. Requires proficiency in a programming language such as Python, R, or MATLAB.  \n",
       "4                                                                                                                                                                                                                                                                                                                  Introduces students to the core tasks in data science, including data collection, storage, tidying, transformation, processing, management, and modeling for the purpose of extracting knowledge from raw observations. Programming is a cross-cutting aspect of the course. Offers students an opportunity to gain experience with data science tasks and tools through short assignments. Includes a term project based on real-world data.  \n",
       "5                                                                                                                                                                                                                                                                                                                  Offers an introductory course on fundamentals of programming and data structures. Covers lists, arrays, trees, hash tables, etc.; program design, programming practices, testing, debugging, maintainability, data collection techniques, and data cleaning and preprocessing. Includes a class project, where students use the concepts covered to collect data from the web, clean and preprocess the data, and make it ready for analysis.  \n",
       "6                                                                      Offers students a capstone opportunity to practice data science skills learned in previous courses and to build a portfolio. Students practice visualization, data wrangling, and machine learning skills by applying them to semester-long term projects on real-world data. Students may either propose their own projects or choose from a selection of industry options. Emphasizes the overall data science process, including identification of the scientific problem, selection of appropriate machine learning methods, and visualization and communication of results. Lectures may include additional topics, including visualization, communication, and data science ethics.  \n",
       "7                                                                                                                                                       Offers an introductory course on the basics of statistics, probability, and linear algebra. Covers random variables, frequency distributions, measures of central tendency, measures of dispersion, moments of a distribution, discrete and continuous probability distributions, chain rule, Bayes&#8217; rule, correlation theory, basic sampling, matrix operations, trace of a matrix, norms, linear independence and ranks, inverse of a matrix, orthogonal matrices, range and null-space of a matrix, the determinant of a matrix, positive semidefinite matrices, eigenvalues, and eigenvectors.  \n",
       "8                                                                                                                               Introduces the fundamental techniques for machine learning and data science engineering. Discusses a variety of machine learning algorithms, along with examples of their implementation, evaluation, and best practices. Lays the foundation of how learning models are derived from complex data pipelines, both algorithmically and practically. Topics include supervised learning (parametric/nonparametric algorithms, support vector machines, kernels, neural networks, deep learning) and unsupervised learning (clustering, dimensionality reduction, recommender systems). Based on numerous real-world case studies.  \n",
       "9                                                                                                                                                                                                                                                                                                                                                                                                 Analyzes machine learning techniques, methodologies, and best practices tailored for advanced artificial intelligence applications. Covers advanced supervised and unsupervised learning, deep learning architectures, reinforcement learning, and domain-specific applications. Explores crucial topics of ethics, privacy, and fairness in machine learning.  \n",
       "10                                                                                                                                                                                                        Introduces the fundamental techniques for data mining, combining elements from CS 6140 and CS 6220. Discusses several basic learning algorithms, such as regression and decision trees, along with popular data types, implementation and execution, and analysis of results. Lays the data analytics program foundation of how learning models from data work, both algorithmically and practically. The coding can be done in R, Matlab or Python. Students must demonstrate ability to set up data for learning, training, testing, and evaluating.  \n",
       "11  Introduces both the mathematical theory of learning and the implementation of modern machine-learning algorithms appropriate for data science. Modeling everything from social organization to financial predictions, machine-learning algorithms allow us to discover information about complex systems, even when the underlying probability distributions are unknown. Algorithms discussed include regression, decision trees, clustering, and dimensionality reduction. Offers students an opportunity to learn the implications of the mathematical choices underpinning the use of each algorithm, how the results can be interpreted in actionable ways, and how to apply their knowledge through the analysis of a variety of data sets and models.  \n",
       "12                                                                                                                                                                                                                                                                   Focuses on the integration of machine learning with production-level infrastructure, emphasizing the full life cycle of model development, deployment, and monitoring. Highlights tools and best practices for scalable, reproducible, and automated ML operations. Covers continuous integration and delivery, containerization, orchestration, experiment tracking, and automated retraining using platforms such as TFX, MLflow, Airflow, Docker, Kubernetes, and Google Cloud Platform.  \n",
       "13                                                                                                                                         Explores data mining perspectives and methods within a business context. Introduces the theoretical foundations of key data mining techniques and provides guidance on selecting and applying the appropriate methods for various business scenarios, highlighting the advantages of each approach. Offers students an opportunity to engage with contemporary data mining software applications and to develop basic programming skills. Covers both supervised and unsupervised learning methods, focusing on solving real-world business problems including data cleaning, data transformation, and data modeling.  \n",
       "14                                                                                                                                                                                                                                                                                             Examines data mining perspectives and methods in a business context. Introduces the theoretical foundations for major data mining methods and studies how to select and use the appropriate data mining method and the major advantages for each. Students use contemporary data mining software applications and practice basic programming skills. Focuses on solving real-world problems, which require data cleaning, data transformation, and data modeling.  \n",
       "15                                                                                                                                                                                                                                                                                            Offers special topics in data science, including machine learning, statistics, data mining, parallel and distributed data analysis, database systems, information retrieval, knowledge representation, information visualization, natural language processing, computational biology and bioinformatics, computational social science, digital humanities, health informatics, business, and predictive analytics. May be repeated once for up to 8 total credits.  \n",
       "16                                                                                                                                                                                                                                                                                                                                                                                                                                                                                                                                                                                                                  Offers special topics in data science based on the interest and expertise of the faculty member conducting the course. May be repeated once.  "
      ]
     },
     "execution_count": 18,
     "metadata": {},
     "output_type": "execute_result"
    }
   ],
   "source": [
    "pd.set_option('display.max_columns', None)\n",
    "pd.set_option('display.max_rows', None)\n",
    "pd.set_option('display.max_colwidth', None)  # or 200\n",
    "# df.iloc[:,[1,2,-1]]\n",
    "df"
   ]
  }
 ],
 "metadata": {
  "kernelspec": {
   "display_name": "PT",
   "language": "python",
   "name": "python3"
  },
  "language_info": {
   "codemirror_mode": {
    "name": "ipython",
    "version": 3
   },
   "file_extension": ".py",
   "mimetype": "text/x-python",
   "name": "python",
   "nbconvert_exporter": "python",
   "pygments_lexer": "ipython3",
   "version": "3.12.7"
  }
 },
 "nbformat": 4,
 "nbformat_minor": 5
}
